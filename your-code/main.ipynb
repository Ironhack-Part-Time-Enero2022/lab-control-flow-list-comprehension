{
 "cells": [
  {
   "cell_type": "markdown",
   "metadata": {},
   "source": [
    "# Control Flow & List Comprehensions\n",
    "\n",
    "Complete the following exercises, each exercise should have a solution with a traditional for loop and a list comprehension."
   ]
  },
  {
   "cell_type": "code",
   "execution_count": 4,
   "metadata": {},
   "outputs": [],
   "source": [
    "import os;"
   ]
  },
  {
   "cell_type": "markdown",
   "metadata": {},
   "source": [
    "## Use a list comprehension to create and print a list of consecutive integers starting with 1 and ending with 50."
   ]
  },
  {
   "cell_type": "code",
   "execution_count": 5,
   "metadata": {},
   "outputs": [
    {
     "name": "stdout",
     "output_type": "stream",
     "text": [
      "[1, 2, 3, 4, 5, 6, 7, 8, 9, 10, 11, 12, 13, 14, 15, 16, 17, 18, 19, 20, 21, 22, 23, 24, 25, 26, 27, 28, 29, 30, 31, 32, 33, 34, 35, 36, 37, 38, 39, 40, 41, 42, 43, 44, 45, 46, 47, 48, 49, 50]\n"
     ]
    }
   ],
   "source": [
    "cons_int = [i for i in list(range(1,51))]\n",
    "print(cons_int)"
   ]
  },
  {
   "cell_type": "markdown",
   "metadata": {},
   "source": [
    "## Use a list comprehension to create and print a list of even numbers starting with 2 and ending with 200."
   ]
  },
  {
   "cell_type": "code",
   "execution_count": 5,
   "metadata": {},
   "outputs": [
    {
     "name": "stdout",
     "output_type": "stream",
     "text": [
      "[2, 4, 6, 8, 10, 12, 14, 16, 18, 20, 22, 24, 26, 28, 30, 32, 34, 36, 38, 40, 42, 44, 46, 48, 50, 52, 54, 56, 58, 60, 62, 64, 66, 68, 70, 72, 74, 76, 78, 80, 82, 84, 86, 88, 90, 92, 94, 96, 98, 100, 102, 104, 106, 108, 110, 112, 114, 116, 118, 120, 122, 124, 126, 128, 130, 132, 134, 136, 138, 140, 142, 144, 146, 148, 150, 152, 154, 156, 158, 160, 162, 164, 166, 168, 170, 172, 174, 176, 178, 180, 182, 184, 186, 188, 190, 192, 194, 196, 198, 200]\n"
     ]
    }
   ],
   "source": [
    "even_numbers = [i for i in list(range(2,201,2))]\n",
    "print(even_numbers)"
   ]
  },
  {
   "cell_type": "markdown",
   "metadata": {},
   "source": [
    "## Use a list comprehension to create and print a list containing all elements of the 10 x 4 array below."
   ]
  },
  {
   "cell_type": "code",
   "execution_count": 7,
   "metadata": {},
   "outputs": [],
   "source": [
    "a = [[0.84062117, 0.48006452, 0.7876326 , 0.77109654],\n",
    "       [0.44409793, 0.09014516, 0.81835917, 0.87645456],\n",
    "       [0.7066597 , 0.09610873, 0.41247947, 0.57433389],\n",
    "       [0.29960807, 0.42315023, 0.34452557, 0.4751035 ],\n",
    "       [0.17003563, 0.46843998, 0.92796258, 0.69814654],\n",
    "       [0.41290051, 0.19561071, 0.16284783, 0.97016248],\n",
    "       [0.71725408, 0.87702738, 0.31244595, 0.76615487],\n",
    "       [0.20754036, 0.57871812, 0.07214068, 0.40356048],\n",
    "       [0.12149553, 0.53222417, 0.9976855 , 0.12536346],\n",
    "       [0.80930099, 0.50962849, 0.94555126, 0.33364763]];"
   ]
  },
  {
   "cell_type": "code",
   "execution_count": 13,
   "metadata": {},
   "outputs": [
    {
     "name": "stdout",
     "output_type": "stream",
     "text": [
      "[0.84062117, 0.48006452, 0.7876326, 0.77109654, 0.44409793, 0.09014516, 0.81835917, 0.87645456, 0.7066597, 0.09610873, 0.41247947, 0.57433389, 0.29960807, 0.42315023, 0.34452557, 0.4751035, 0.17003563, 0.46843998, 0.92796258, 0.69814654, 0.41290051, 0.19561071, 0.16284783, 0.97016248, 0.71725408, 0.87702738, 0.31244595, 0.76615487, 0.20754036, 0.57871812, 0.07214068, 0.40356048, 0.12149553, 0.53222417, 0.9976855, 0.12536346, 0.80930099, 0.50962849, 0.94555126, 0.33364763]\n",
      "\n",
      "\n",
      "[0.84062117, 0.48006452, 0.7876326, 0.77109654, 0.44409793, 0.09014516, 0.81835917, 0.87645456, 0.7066597, 0.09610873, 0.41247947, 0.57433389, 0.29960807, 0.42315023, 0.34452557, 0.4751035, 0.17003563, 0.46843998, 0.92796258, 0.69814654, 0.41290051, 0.19561071, 0.16284783, 0.97016248, 0.71725408, 0.87702738, 0.31244595, 0.76615487, 0.20754036, 0.57871812, 0.07214068, 0.40356048, 0.12149553, 0.53222417, 0.9976855, 0.12536346, 0.80930099, 0.50962849, 0.94555126, 0.33364763]\n"
     ]
    }
   ],
   "source": [
    "#list comprehension:\n",
    "\n",
    "a_new = [float(z) for i in a for z in i]\n",
    "print(a_new)\n",
    "print(\"\\n\")\n",
    "\n",
    "#traditional:\n",
    "a_new1 = []\n",
    "for i in a:\n",
    "    for z in i:\n",
    "        a_new1.append(float(z))\n",
    "print(a_new1)"
   ]
  },
  {
   "cell_type": "markdown",
   "metadata": {},
   "source": [
    "## Add a condition to the list comprehension above so that only values greater than or equal to 0.5 are printed."
   ]
  },
  {
   "cell_type": "code",
   "execution_count": 14,
   "metadata": {},
   "outputs": [
    {
     "name": "stdout",
     "output_type": "stream",
     "text": [
      "[0.84062117, 0.7876326, 0.77109654, 0.81835917, 0.87645456, 0.7066597, 0.57433389, 0.92796258, 0.69814654, 0.97016248, 0.71725408, 0.87702738, 0.76615487, 0.57871812, 0.53222417, 0.9976855, 0.80930099, 0.50962849, 0.94555126]\n"
     ]
    }
   ],
   "source": [
    "a_new2 = [float(z) for i in a for z in i if z >= 0.5]\n",
    "print(a_new2)"
   ]
  },
  {
   "cell_type": "markdown",
   "metadata": {},
   "source": [
    "## Use a list comprehension to create and print a list containing all elements of the 5 x 2 x 3 array below."
   ]
  },
  {
   "cell_type": "code",
   "execution_count": 23,
   "metadata": {},
   "outputs": [],
   "source": [
    "b = [[[0.55867166, 0.06210792, 0.08147297],\n",
    "        [0.82579068, 0.91512478, 0.06833034]],\n",
    "\n",
    "       [[0.05440634, 0.65857693, 0.30296619],\n",
    "        [0.06769833, 0.96031863, 0.51293743]],\n",
    "\n",
    "       [[0.09143215, 0.71893382, 0.45850679],\n",
    "        [0.58256464, 0.59005654, 0.56266457]],\n",
    "\n",
    "       [[0.71600294, 0.87392666, 0.11434044],\n",
    "        [0.8694668 , 0.65669313, 0.10708681]],\n",
    "\n",
    "       [[0.07529684, 0.46470767, 0.47984544],\n",
    "        [0.65368638, 0.14901286, 0.23760688]]];"
   ]
  },
  {
   "cell_type": "code",
   "execution_count": 24,
   "metadata": {},
   "outputs": [
    {
     "name": "stdout",
     "output_type": "stream",
     "text": [
      "[0.55867166, 0.06210792, 0.08147297, 0.82579068, 0.91512478, 0.06833034, 0.05440634, 0.65857693, 0.30296619, 0.06769833, 0.96031863, 0.51293743, 0.09143215, 0.71893382, 0.45850679, 0.58256464, 0.59005654, 0.56266457, 0.71600294, 0.87392666, 0.11434044, 0.8694668, 0.65669313, 0.10708681, 0.07529684, 0.46470767, 0.47984544, 0.65368638, 0.14901286, 0.23760688]\n"
     ]
    }
   ],
   "source": [
    "b_new = [g for i in b for z in i for g in z]\n",
    "print(b_new)"
   ]
  },
  {
   "cell_type": "markdown",
   "metadata": {},
   "source": [
    "## Add a condition to the list comprehension above so that the last value in each subarray is printed, but only if it is less than or equal to 0.5."
   ]
  },
  {
   "cell_type": "code",
   "execution_count": 30,
   "metadata": {},
   "outputs": [
    {
     "name": "stdout",
     "output_type": "stream",
     "text": [
      "[0.51293743, 0.56266457]\n"
     ]
    }
   ],
   "source": [
    "b_new1 = [g for i in b for z in i for g in z if z.index(g) == 2 and g > 0.5]\n",
    "print(b_new1)"
   ]
  },
  {
   "cell_type": "markdown",
   "metadata": {},
   "source": [
    "## Use a list comprehension to select and print the names of all CSV files in the */data* directory."
   ]
  },
  {
   "cell_type": "code",
   "execution_count": 51,
   "metadata": {},
   "outputs": [
    {
     "name": "stdout",
     "output_type": "stream",
     "text": [
      "['sample_file_1.csv', 'sample_file_0.csv', 'sample_file_2.csv', 'sample_file_3.csv', 'sample_file_7.csv', 'sample_file_6.csv', 'sample_file_4.csv', 'sample_file_5.csv', 'sample_file_8.csv', 'sample_file_9.csv']\n"
     ]
    }
   ],
   "source": [
    "import glob, os\n",
    "\n",
    "os.chdir(\"/Users/fernandoseguias/Desktop/ferseg/Proyectos/Programacion/iron_hack/ironhack_labs/lab-control-flow-list-comprehension/data\")\n",
    "\n",
    "csv_list = [i for i in glob.glob(\"*.csv\", recursive = True)]\n",
    "print(csv_list)"
   ]
  },
  {
   "cell_type": "markdown",
   "metadata": {},
   "source": [
    "## Bonus"
   ]
  },
  {
   "cell_type": "markdown",
   "metadata": {},
   "source": [
    "Try to solve these katas using list comprehensions."
   ]
  },
  {
   "cell_type": "markdown",
   "metadata": {},
   "source": [
    "**Easy**\n",
    "- [Insert values](https://www.codewars.com/kata/invert-values)\n",
    "- [Sum Square(n)](https://www.codewars.com/kata/square-n-sum)\n",
    "- [Digitize](https://www.codewars.com/kata/digitize)\n",
    "- [List filtering](https://www.codewars.com/kata/list-filtering)\n",
    "- [Arithmetic list](https://www.codewars.com/kata/541da001259d9ca85d000688)\n",
    "\n",
    "**Medium**\n",
    "- [Multiples of 3 or 5](https://www.codewars.com/kata/514b92a657cdc65150000006)\n",
    "- [Count of positives / sum of negatives](https://www.codewars.com/kata/count-of-positives-slash-sum-of-negatives)\n",
    "- [Categorize new member](https://www.codewars.com/kata/5502c9e7b3216ec63c0001aa)\n",
    "\n",
    "**Advanced**\n",
    "- [Queue time counter](https://www.codewars.com/kata/queue-time-counter)"
   ]
  },
  {
   "cell_type": "code",
   "execution_count": 156,
   "metadata": {},
   "outputs": [
    {
     "name": "stdout",
     "output_type": "stream",
     "text": [
      "[1, -2, -3, -4, -5, 6]\n"
     ]
    }
   ],
   "source": [
    "def invert_values(x):\n",
    "    inverted = [-i for i in x]\n",
    "    print(inverted)\n",
    "\n",
    "lista_ejemplo = [-1,2,3,4,5,-6]\n",
    "\n",
    "invert_values(lista_ejemplo)"
   ]
  },
  {
   "cell_type": "code",
   "execution_count": 157,
   "metadata": {},
   "outputs": [
    {
     "name": "stdout",
     "output_type": "stream",
     "text": [
      "[1, 4, 9, 16, 25, 36]\n",
      "91\n"
     ]
    }
   ],
   "source": [
    "def sum_square(x):\n",
    "    suma = 0\n",
    "    squares = [i ** 2 for i in x]\n",
    "    print(squares)\n",
    "    for y in squares:\n",
    "        suma = suma + y\n",
    "    print(suma)\n",
    "\n",
    "sum_square(lista_ejemplo)"
   ]
  },
  {
   "cell_type": "code",
   "execution_count": 158,
   "metadata": {},
   "outputs": [
    {
     "name": "stdout",
     "output_type": "stream",
     "text": [
      "Enter a positive integrer: \n",
      "[]\n"
     ]
    }
   ],
   "source": [
    "def digitize(x):\n",
    "    new_list = [int(i) for i in x]\n",
    "    print(new_list)\n",
    "\n",
    "digitize(input(\"Enter a positive integrer: \"))"
   ]
  },
  {
   "cell_type": "code",
   "execution_count": 169,
   "metadata": {},
   "outputs": [
    {
     "name": "stdout",
     "output_type": "stream",
     "text": [
      "[1, 2, 4, 6]\n"
     ]
    }
   ],
   "source": [
    "def filtering(x):\n",
    "    new_list = [i for i in x if not type(i) == str]\n",
    "    print(new_list)\n",
    "\n",
    "lista_ejemplo_1 = [1,2,\"nada\",4,\"hola\",6]\n",
    "\n",
    "filtering(lista_ejemplo_1)"
   ]
  },
  {
   "cell_type": "code",
   "execution_count": 170,
   "metadata": {},
   "outputs": [
    {
     "name": "stdout",
     "output_type": "stream",
     "text": [
      "[4, 6, 8, 10, 12]\n"
     ]
    }
   ],
   "source": [
    "def ar_seq(first, c, l):\n",
    "    new_list = [first]\n",
    "    seq_acum = first\n",
    "    for i in range(l-1):\n",
    "        seq_acum += c\n",
    "        new_list.append(seq_acum)\n",
    "    print(new_list)\n",
    "    \n",
    "ar_seq(4,2,5)"
   ]
  },
  {
   "cell_type": "code",
   "execution_count": 174,
   "metadata": {},
   "outputs": [
    {
     "name": "stdout",
     "output_type": "stream",
     "text": [
      "Introduce un numero entero: 25\n",
      "[3, 5, 6, 9, 10, 12, 15, 18, 20, 21, 24]\n",
      "143\n"
     ]
    }
   ],
   "source": [
    "def multiples(x):\n",
    "    if x > 0:\n",
    "        suma = 0\n",
    "        new_list = [i for i in range(1,x) if i % 3 == 0 or i % 5 == 0]\n",
    "        for i in new_list:\n",
    "            suma += i\n",
    "        print(new_list)\n",
    "        print(suma)\n",
    "    else:\n",
    "        return 0\n",
    "\n",
    "multiples(int(input(\"Introduce un numero entero: \")))"
   ]
  },
  {
   "cell_type": "code",
   "execution_count": 208,
   "metadata": {},
   "outputs": [
    {
     "name": "stdout",
     "output_type": "stream",
     "text": [
      "[-1, 2, 3, 4, 5, -6]\n"
     ]
    },
    {
     "data": {
      "text/plain": [
       "[4, -7]"
      ]
     },
     "execution_count": 208,
     "metadata": {},
     "output_type": "execute_result"
    }
   ],
   "source": [
    "def result(x):\n",
    "    list_pos = [i for i in x if i > 0]\n",
    "    list_neg = [i for i in x if i < 0]    \n",
    "    count_pos = len(list_pos)\n",
    "    sum_neg = 0\n",
    "    for i in list_neg:\n",
    "        sum_neg += i\n",
    "    return [count_pos, sum_neg]\n",
    "\n",
    "print(lista_ejemplo)\n",
    "result(lista_ejemplo)"
   ]
  },
  {
   "cell_type": "code",
   "execution_count": null,
   "metadata": {},
   "outputs": [],
   "source": [
    "def category(x):\n",
    "    age = [a[0] for a in x]\n",
    "    handicap = [h[1] for h in x]\n",
    "    result = [\"Senior\" if a > 55 and h > 7 else \"Open\" for a, h in zip(age, handicap)]\n",
    "    print(result)\n",
    "\n",
    "prueba =  [(56, -1), (45, 2), (61, 12), (37, 6), (21, 21), (78, 1)]\n",
    "category(prueba)"
   ]
  },
  {
   "cell_type": "code",
   "execution_count": 64,
   "metadata": {},
   "outputs": [
    {
     "name": "stdout",
     "output_type": "stream",
     "text": [
      "Queue:  [2, 5, 3, 4, 6] \n",
      "\n",
      "Total tickets a comprar:  3 \n",
      "\n",
      "Han transcurrido 1 min y la situacion es:  [5, 3, 4, 6, 1]\n",
      "Han transcurrido 2 min y la situacion es:  [3, 4, 6, 1, 4]\n",
      "Total tickets a comprar:  2 \n",
      "\n",
      "Han transcurrido 3 min y la situacion es:  [4, 6, 1, 4, 2]\n",
      "Han transcurrido 4 min y la situacion es:  [6, 1, 4, 2, 3]\n",
      "Han transcurrido 5 min y la situacion es:  [1, 4, 2, 3, 5]\n",
      "Han transcurrido 6 min y la situacion es:  [4, 2, 3, 5]\n",
      "Han transcurrido 7 min y la situacion es:  [2, 3, 5, 3]\n",
      "Total tickets a comprar:  1 \n",
      "\n",
      "Han transcurrido 8 min y la situacion es:  [3, 5, 3, 1]\n",
      "Han transcurrido 9 min y la situacion es:  [5, 3, 1, 2]\n",
      "Han transcurrido 10 min y la situacion es:  [3, 1, 2, 4]\n",
      "Han transcurrido 11 min y la situacion es:  [1, 2, 4, 2]\n",
      "Total tickets a comprar:  0 \n",
      "\n",
      "Han transcurrido 12 min y la situacion es:  [2, 4, 2]\n",
      "Mi amigo estará 12 min en fila\n"
     ]
    }
   ],
   "source": [
    "def queue_time(queue,pos):\n",
    "    total_time = 0\n",
    "    total_tickets = queue[pos - 1]\n",
    "    print(\"Queue: \",queue,\"\\n\")\n",
    "    print(\"Total tickets a comprar: \",total_tickets,\"\\n\")\n",
    "    while total_tickets > 0:\n",
    "        #para modificar la variable queue:\n",
    "        if queue[0] - 1 != 0:\n",
    "            queue.append(queue[0]-1)\n",
    "            del queue[0]\n",
    "        else:\n",
    "            del queue[0]\n",
    "        #para modificar las variables total_time y total_tickets (solo si es necesario):\n",
    "        pos -= 1\n",
    "        if pos == 0:\n",
    "            total_tickets -= 1\n",
    "            print(\"Total tickets a comprar: \", total_tickets,\"\\n\")\n",
    "            total_time += 1\n",
    "            pos = len(queue)\n",
    "        else:\n",
    "            total_time += 1\n",
    "        print(f\"Han transcurrido {total_time} min y la situacion es: \", queue)\n",
    "    else:\n",
    "        print(f\"Mi amigo estará {total_time} min en fila\")\n",
    "\n",
    "queue_time([2,5,3,4,6],3)\n",
    "    "
   ]
  },
  {
   "cell_type": "markdown",
   "metadata": {},
   "source": [
    "You managed to send your friend to queue for tickets in your stead, but there is a catch: he will get there only if you tell him how much that is going to take. And everybody can only take one ticket at a time, then they go back in the last position of the queue if they need more (or go home if they are fine).\n",
    "\n",
    "Each ticket takes one minutes to emit, the queue is well disciplined, Brit-style, and so it moves smoothly, with no waste of time.\n",
    "\n",
    "You will be given an array/list/vector with all the people queuing and the initial position of your buddy, so for example, knowing that your friend is in the third position (that we will consider equal to the index, 2 (3 in COBOL): he is the guy that wants 3 tickets!) and the initial queue is [2, 5, 3, 4, 6].\n",
    "\n",
    "The first dude gets his ticket and the queue goes now like this [5, 3, 4, 6, 1], then [3, 4, 6, 1, 4] and so on. In the end, our buddy will be queuing for 12 minutes, true story!\n",
    "\n",
    "Build a function to compute it, resting assured that only positive integers are going to be there and you will be always given a valid index; but we also want to go to pretty popular events, so be ready for big queues with people getting plenty of tickets."
   ]
  },
  {
   "cell_type": "code",
   "execution_count": null,
   "metadata": {},
   "outputs": [],
   "source": []
  }
 ],
 "metadata": {
  "kernelspec": {
   "display_name": "Python 3 (ipykernel)",
   "language": "python",
   "name": "python3"
  },
  "language_info": {
   "codemirror_mode": {
    "name": "ipython",
    "version": 3
   },
   "file_extension": ".py",
   "mimetype": "text/x-python",
   "name": "python",
   "nbconvert_exporter": "python",
   "pygments_lexer": "ipython3",
   "version": "3.9.7"
  },
  "toc": {
   "base_numbering": 1,
   "nav_menu": {},
   "number_sections": true,
   "sideBar": true,
   "skip_h1_title": false,
   "title_cell": "Table of Contents",
   "title_sidebar": "Contents",
   "toc_cell": false,
   "toc_position": {},
   "toc_section_display": true,
   "toc_window_display": false
  }
 },
 "nbformat": 4,
 "nbformat_minor": 2
}
